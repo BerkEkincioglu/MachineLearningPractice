{
 "cells": [
  {
   "cell_type": "code",
   "execution_count": 1,
   "metadata": {},
   "outputs": [],
   "source": [
    "import numpy as np \n",
    "import pandas as pd "
   ]
  },
  {
   "cell_type": "code",
   "execution_count": 2,
   "metadata": {},
   "outputs": [],
   "source": [
    "df = pd.read_csv('Sheet_1.csv')"
   ]
  },
  {
   "cell_type": "code",
   "execution_count": 3,
   "metadata": {},
   "outputs": [],
   "source": [
    "data = df.iloc[:,:3]"
   ]
  },
  {
   "cell_type": "code",
   "execution_count": 4,
   "metadata": {},
   "outputs": [
    {
     "output_type": "execute_result",
     "data": {
      "text/plain": "  response_id        class                                      response_text\n0  response_1  not_flagged              I try and avoid this sort of conflict\n1  response_2      flagged  Had a friend open up to me about his mental ad...\n2  response_3      flagged  I saved a girl from suicide once. She was goin...\n3  response_4  not_flagged  i cant think of one really...i think i may hav...\n4  response_5  not_flagged  Only really one friend who doesn't fit into th...",
      "text/html": "<div>\n<style scoped>\n    .dataframe tbody tr th:only-of-type {\n        vertical-align: middle;\n    }\n\n    .dataframe tbody tr th {\n        vertical-align: top;\n    }\n\n    .dataframe thead th {\n        text-align: right;\n    }\n</style>\n<table border=\"1\" class=\"dataframe\">\n  <thead>\n    <tr style=\"text-align: right;\">\n      <th></th>\n      <th>response_id</th>\n      <th>class</th>\n      <th>response_text</th>\n    </tr>\n  </thead>\n  <tbody>\n    <tr>\n      <th>0</th>\n      <td>response_1</td>\n      <td>not_flagged</td>\n      <td>I try and avoid this sort of conflict</td>\n    </tr>\n    <tr>\n      <th>1</th>\n      <td>response_2</td>\n      <td>flagged</td>\n      <td>Had a friend open up to me about his mental ad...</td>\n    </tr>\n    <tr>\n      <th>2</th>\n      <td>response_3</td>\n      <td>flagged</td>\n      <td>I saved a girl from suicide once. She was goin...</td>\n    </tr>\n    <tr>\n      <th>3</th>\n      <td>response_4</td>\n      <td>not_flagged</td>\n      <td>i cant think of one really...i think i may hav...</td>\n    </tr>\n    <tr>\n      <th>4</th>\n      <td>response_5</td>\n      <td>not_flagged</td>\n      <td>Only really one friend who doesn't fit into th...</td>\n    </tr>\n  </tbody>\n</table>\n</div>"
     },
     "metadata": {},
     "execution_count": 4
    }
   ],
   "source": [
    "data.head()"
   ]
  },
  {
   "cell_type": "code",
   "execution_count": 5,
   "metadata": {},
   "outputs": [],
   "source": [
    "from sklearn.preprocessing import LabelEncoder\n",
    "le = LabelEncoder()\n",
    "data['class'] = le.fit_transform(data['class'])"
   ]
  },
  {
   "cell_type": "code",
   "execution_count": 6,
   "metadata": {},
   "outputs": [
    {
     "output_type": "execute_result",
     "data": {
      "text/plain": "  response_id  class                                      response_text\n0  response_1      1              I try and avoid this sort of conflict\n1  response_2      0  Had a friend open up to me about his mental ad...\n2  response_3      0  I saved a girl from suicide once. She was goin...\n3  response_4      1  i cant think of one really...i think i may hav...\n4  response_5      1  Only really one friend who doesn't fit into th...",
      "text/html": "<div>\n<style scoped>\n    .dataframe tbody tr th:only-of-type {\n        vertical-align: middle;\n    }\n\n    .dataframe tbody tr th {\n        vertical-align: top;\n    }\n\n    .dataframe thead th {\n        text-align: right;\n    }\n</style>\n<table border=\"1\" class=\"dataframe\">\n  <thead>\n    <tr style=\"text-align: right;\">\n      <th></th>\n      <th>response_id</th>\n      <th>class</th>\n      <th>response_text</th>\n    </tr>\n  </thead>\n  <tbody>\n    <tr>\n      <th>0</th>\n      <td>response_1</td>\n      <td>1</td>\n      <td>I try and avoid this sort of conflict</td>\n    </tr>\n    <tr>\n      <th>1</th>\n      <td>response_2</td>\n      <td>0</td>\n      <td>Had a friend open up to me about his mental ad...</td>\n    </tr>\n    <tr>\n      <th>2</th>\n      <td>response_3</td>\n      <td>0</td>\n      <td>I saved a girl from suicide once. She was goin...</td>\n    </tr>\n    <tr>\n      <th>3</th>\n      <td>response_4</td>\n      <td>1</td>\n      <td>i cant think of one really...i think i may hav...</td>\n    </tr>\n    <tr>\n      <th>4</th>\n      <td>response_5</td>\n      <td>1</td>\n      <td>Only really one friend who doesn't fit into th...</td>\n    </tr>\n  </tbody>\n</table>\n</div>"
     },
     "metadata": {},
     "execution_count": 6
    }
   ],
   "source": [
    "data.head()"
   ]
  },
  {
   "cell_type": "code",
   "execution_count": 7,
   "metadata": {},
   "outputs": [
    {
     "output_type": "stream",
     "name": "stderr",
     "text": "[nltk_data] Downloading package stopwords to\n[nltk_data]     /Users/berkekincioglu/nltk_data...\n[nltk_data]   Package stopwords is already up-to-date!\n"
    }
   ],
   "source": [
    "import re \n",
    "import nltk\n",
    "from nltk.stem.porter import PorterStemmer\n",
    "ps = PorterStemmer()\n",
    "nltk.download('stopwords')\n",
    "from nltk.corpus import stopwords"
   ]
  },
  {
   "cell_type": "code",
   "execution_count": 8,
   "metadata": {},
   "outputs": [],
   "source": [
    "# preprocessing\n",
    "compilation = []\n",
    "\n",
    "for i in range(80):\n",
    "    comment = re.sub('[^a-zA-Z]',' ',data['response_text'][i])\n",
    "    comment = comment.lower()\n",
    "    comment = comment.split()\n",
    "    comment = [ps.stem(word) for word in comment if not word in set(stopwords.words('english'))]\n",
    "    comment = ' '.join(comment)\n",
    "    compilation.append(comment)"
   ]
  },
  {
   "cell_type": "code",
   "execution_count": 9,
   "metadata": {},
   "outputs": [],
   "source": [
    "# Feature Extraction (Oznitelik Cikarimi)\n",
    "# Bag of Words (BOW)\n",
    "from sklearn.feature_extraction.text import CountVectorizer\n",
    "cv = CountVectorizer()"
   ]
  },
  {
   "cell_type": "code",
   "execution_count": 10,
   "metadata": {},
   "outputs": [],
   "source": [
    "x = cv.fit_transform(compilation).toarray()\n",
    "y = data['class'].values"
   ]
  },
  {
   "cell_type": "code",
   "execution_count": 11,
   "metadata": {},
   "outputs": [],
   "source": [
    "from sklearn.model_selection import train_test_split\n",
    "x_train,x_test,y_train,y_test = train_test_split(x,y,test_size=0.2,random_state=42)"
   ]
  },
  {
   "cell_type": "code",
   "execution_count": 12,
   "metadata": {},
   "outputs": [
    {
     "output_type": "stream",
     "name": "stdout",
     "text": "0.6875\n"
    }
   ],
   "source": [
    "from sklearn.naive_bayes import GaussianNB\n",
    "gnb = GaussianNB()\n",
    "gnb.fit(x_train,y_train)\n",
    "y_pred = gnb.predict(x_test)\n",
    "print(gnb.score(x_test,y_test))"
   ]
  },
  {
   "cell_type": "code",
   "execution_count": 13,
   "metadata": {},
   "outputs": [
    {
     "output_type": "stream",
     "name": "stdout",
     "text": "[[ 1  4]\n [ 1 10]]\n"
    }
   ],
   "source": [
    "from sklearn.metrics import confusion_matrix\n",
    "cm = confusion_matrix(y_pred,y_test)\n",
    "print(cm)"
   ]
  }
 ],
 "metadata": {
  "language_info": {
   "codemirror_mode": {
    "name": "ipython",
    "version": 3
   },
   "file_extension": ".py",
   "mimetype": "text/x-python",
   "name": "python",
   "nbconvert_exporter": "python",
   "pygments_lexer": "ipython3",
   "version": "3.7.6-final"
  },
  "orig_nbformat": 2,
  "kernelspec": {
   "name": "python3",
   "display_name": "Python 3"
  }
 },
 "nbformat": 4,
 "nbformat_minor": 2
}