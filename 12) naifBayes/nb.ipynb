{
 "cells": [
  {
   "cell_type": "code",
   "execution_count": 1,
   "metadata": {},
   "outputs": [],
   "source": [
    "import pandas as pd \n",
    "import numpy as np \n",
    "import matplotlib.pyplot as plt "
   ]
  },
  {
   "cell_type": "code",
   "execution_count": 2,
   "metadata": {},
   "outputs": [],
   "source": [
    "df = pd.read_csv(\"veriler.csv\")"
   ]
  },
  {
   "cell_type": "code",
   "execution_count": 3,
   "metadata": {},
   "outputs": [],
   "source": [
    "x = df.iloc[:,1:4].values\n",
    "y = df.iloc[:,4:].values"
   ]
  },
  {
   "cell_type": "code",
   "execution_count": 4,
   "metadata": {},
   "outputs": [
    {
     "output_type": "execute_result",
     "data": {
      "text/plain": "array([[-1.62018668, -1.47588873, -1.47217295],\n       [-1.86299395, -1.20033383, -1.39337051],\n       [-1.37737941, -1.29218547, -1.47217295],\n       [-1.47450232, -1.47588873, -1.5509754 ],\n       [-1.66874813, -1.1084822 , -1.31456806],\n       [ 0.807886  ,  1.27966024,  0.10387595],\n       [ 1.29350054,  0.82040208, -0.29013628],\n       [ 0.56507873,  1.27966024,  0.49788818],\n       [ 0.66220164, -0.09811424, -0.52654361],\n       [ 1.05069327,  1.96854749,  0.34028329],\n       [ 0.0794642 , -0.32774333, -0.13253139],\n       [-0.40615034, -0.55737241,  1.20711018],\n       [-0.16334307, -0.18996588,  0.81309796],\n       [-0.06622016, -0.14404006,  0.97070285],\n       [ 0.1765871 , -0.00626261,  2.07393708],\n       [ 0.51651728,  0.36114392,  1.44351752],\n       [ 1.4391849 ,  1.27966024, -0.44774117],\n       [ 1.14781618,  0.82040208, -0.13253139],\n       [ 0.95357036,  1.18780861, -0.05372894],\n       [-0.21190452, -1.01663057,  0.02507351],\n       [ 0.03090274,  0.17744065,  0.26148084],\n       [ 0.12802565, -0.28181751,  1.04950529]])"
     },
     "metadata": {},
     "execution_count": 4
    }
   ],
   "source": [
    "from sklearn.preprocessing import StandardScaler\n",
    "sc = StandardScaler()\n",
    "sc.fit_transform(x)"
   ]
  },
  {
   "cell_type": "code",
   "execution_count": 5,
   "metadata": {},
   "outputs": [],
   "source": [
    "from sklearn.model_selection import train_test_split\n",
    "x_train,x_test,y_train,y_test = train_test_split(x,y,test_size=0.3,random_state=0)"
   ]
  },
  {
   "cell_type": "code",
   "execution_count": 11,
   "metadata": {},
   "outputs": [],
   "source": [
    "from sklearn.metrics import confusion_matrix\n",
    "cm = confusion_matrix(y_pred,y_test)"
   ]
  },
  {
   "cell_type": "code",
   "execution_count": 12,
   "metadata": {},
   "outputs": [
    {
     "output_type": "stream",
     "name": "stdout",
     "text": "0.14285714285714285\n[[0 5]\n [1 1]]\n"
    }
   ],
   "source": [
    "from sklearn.naive_bayes import GaussianNB\n",
    "gnb = GaussianNB()\n",
    "gnb.fit(x_train,y_train)\n",
    "y_pred = gnb.predict(x_test)\n",
    "print(gnb.score(x_test,y_test))\n",
    "print(cm)"
   ]
  },
  {
   "cell_type": "code",
   "execution_count": 13,
   "metadata": {},
   "outputs": [
    {
     "output_type": "stream",
     "name": "stdout",
     "text": "0.14285714285714285\n[[0 5]\n [1 1]]\n"
    }
   ],
   "source": [
    "from sklearn.naive_bayes import BernoulliNB\n",
    "bnb = BernoulliNB()\n",
    "bnb.fit(x_train,y_train)\n",
    "y_pred = bnb.predict(x_test)\n",
    "print(bnb.score(x_test,y_test))\n",
    "print(cm)"
   ]
  },
  {
   "cell_type": "code",
   "execution_count": 14,
   "metadata": {},
   "outputs": [
    {
     "output_type": "stream",
     "name": "stdout",
     "text": "0.42857142857142855\n[[0 5]\n [1 1]]\n"
    }
   ],
   "source": [
    "from sklearn.naive_bayes import MultinomialNB\n",
    "mnb = MultinomialNB()\n",
    "mnb.fit(x_train,y_train)\n",
    "y_pred = mnb.predict(x_test)\n",
    "print(mnb.score(x_test,y_test))\n",
    "print(cm)"
   ]
  },
  {
   "cell_type": "code",
   "execution_count": null,
   "metadata": {},
   "outputs": [],
   "source": []
  }
 ],
 "metadata": {
  "language_info": {
   "name": "python",
   "codemirror_mode": {
    "name": "ipython",
    "version": 3
   },
   "version": "3.7.6-final"
  },
  "orig_nbformat": 2,
  "file_extension": ".py",
  "mimetype": "text/x-python",
  "name": "python",
  "npconvert_exporter": "python",
  "pygments_lexer": "ipython3",
  "version": 3,
  "kernelspec": {
   "name": "python3",
   "display_name": "Python 3"
  }
 },
 "nbformat": 4,
 "nbformat_minor": 2
}