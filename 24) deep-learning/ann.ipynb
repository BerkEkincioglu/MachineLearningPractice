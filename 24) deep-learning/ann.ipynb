{
 "cells": [
  {
   "cell_type": "code",
   "execution_count": 2,
   "metadata": {},
   "outputs": [],
   "source": [
    "import numpy as np\n",
    "import tensorflow \n",
    "import pandas as pd \n",
    "import matplotlib.pyplot as plt "
   ]
  },
  {
   "cell_type": "code",
   "execution_count": 3,
   "metadata": {},
   "outputs": [],
   "source": [
    "df = pd.read_csv('Churn_Modelling.csv')"
   ]
  },
  {
   "cell_type": "code",
   "execution_count": 4,
   "metadata": {},
   "outputs": [
    {
     "output_type": "execute_result",
     "data": {
      "text/plain": "   RowNumber  CustomerId   Surname  CreditScore Geography  Gender  Age  \\\n0          1    15634602  Hargrave          619    France  Female   42   \n1          2    15647311      Hill          608     Spain  Female   41   \n2          3    15619304      Onio          502    France  Female   42   \n3          4    15701354      Boni          699    France  Female   39   \n4          5    15737888  Mitchell          850     Spain  Female   43   \n\n   Tenure    Balance  NumOfProducts  HasCrCard  IsActiveMember  \\\n0       2       0.00              1          1               1   \n1       1   83807.86              1          0               1   \n2       8  159660.80              3          1               0   \n3       1       0.00              2          0               0   \n4       2  125510.82              1          1               1   \n\n   EstimatedSalary  Exited  \n0        101348.88       1  \n1        112542.58       0  \n2        113931.57       1  \n3         93826.63       0  \n4         79084.10       0  ",
      "text/html": "<div>\n<style scoped>\n    .dataframe tbody tr th:only-of-type {\n        vertical-align: middle;\n    }\n\n    .dataframe tbody tr th {\n        vertical-align: top;\n    }\n\n    .dataframe thead th {\n        text-align: right;\n    }\n</style>\n<table border=\"1\" class=\"dataframe\">\n  <thead>\n    <tr style=\"text-align: right;\">\n      <th></th>\n      <th>RowNumber</th>\n      <th>CustomerId</th>\n      <th>Surname</th>\n      <th>CreditScore</th>\n      <th>Geography</th>\n      <th>Gender</th>\n      <th>Age</th>\n      <th>Tenure</th>\n      <th>Balance</th>\n      <th>NumOfProducts</th>\n      <th>HasCrCard</th>\n      <th>IsActiveMember</th>\n      <th>EstimatedSalary</th>\n      <th>Exited</th>\n    </tr>\n  </thead>\n  <tbody>\n    <tr>\n      <th>0</th>\n      <td>1</td>\n      <td>15634602</td>\n      <td>Hargrave</td>\n      <td>619</td>\n      <td>France</td>\n      <td>Female</td>\n      <td>42</td>\n      <td>2</td>\n      <td>0.00</td>\n      <td>1</td>\n      <td>1</td>\n      <td>1</td>\n      <td>101348.88</td>\n      <td>1</td>\n    </tr>\n    <tr>\n      <th>1</th>\n      <td>2</td>\n      <td>15647311</td>\n      <td>Hill</td>\n      <td>608</td>\n      <td>Spain</td>\n      <td>Female</td>\n      <td>41</td>\n      <td>1</td>\n      <td>83807.86</td>\n      <td>1</td>\n      <td>0</td>\n      <td>1</td>\n      <td>112542.58</td>\n      <td>0</td>\n    </tr>\n    <tr>\n      <th>2</th>\n      <td>3</td>\n      <td>15619304</td>\n      <td>Onio</td>\n      <td>502</td>\n      <td>France</td>\n      <td>Female</td>\n      <td>42</td>\n      <td>8</td>\n      <td>159660.80</td>\n      <td>3</td>\n      <td>1</td>\n      <td>0</td>\n      <td>113931.57</td>\n      <td>1</td>\n    </tr>\n    <tr>\n      <th>3</th>\n      <td>4</td>\n      <td>15701354</td>\n      <td>Boni</td>\n      <td>699</td>\n      <td>France</td>\n      <td>Female</td>\n      <td>39</td>\n      <td>1</td>\n      <td>0.00</td>\n      <td>2</td>\n      <td>0</td>\n      <td>0</td>\n      <td>93826.63</td>\n      <td>0</td>\n    </tr>\n    <tr>\n      <th>4</th>\n      <td>5</td>\n      <td>15737888</td>\n      <td>Mitchell</td>\n      <td>850</td>\n      <td>Spain</td>\n      <td>Female</td>\n      <td>43</td>\n      <td>2</td>\n      <td>125510.82</td>\n      <td>1</td>\n      <td>1</td>\n      <td>1</td>\n      <td>79084.10</td>\n      <td>0</td>\n    </tr>\n  </tbody>\n</table>\n</div>"
     },
     "metadata": {},
     "execution_count": 4
    }
   ],
   "source": [
    "df.head()"
   ]
  },
  {
   "cell_type": "code",
   "execution_count": 5,
   "metadata": {},
   "outputs": [],
   "source": [
    "x = df.iloc[:,3:13].values\n",
    "y = df.iloc[:,13].values"
   ]
  },
  {
   "cell_type": "code",
   "execution_count": 6,
   "metadata": {},
   "outputs": [],
   "source": [
    "from sklearn.preprocessing import LabelEncoder\n",
    "le = LabelEncoder()\n",
    "x[:,1] = le.fit_transform(x[:,1])\n",
    "le1 = LabelEncoder()\n",
    "x[:,2] = le1.fit_transform(x[:,2])"
   ]
  },
  {
   "cell_type": "code",
   "execution_count": 7,
   "metadata": {},
   "outputs": [],
   "source": [
    "from sklearn.preprocessing import OneHotEncoder\n",
    "ohe = OneHotEncoder()\n",
    "x = ohe.fit_transform(x).toarray()\n",
    "x = x[:,1:]"
   ]
  },
  {
   "cell_type": "code",
   "execution_count": 8,
   "metadata": {},
   "outputs": [],
   "source": [
    "from sklearn.preprocessing import StandardScaler\n",
    "sc = StandardScaler()\n",
    "x = sc.fit_transform(x)"
   ]
  },
  {
   "cell_type": "code",
   "execution_count": 9,
   "metadata": {},
   "outputs": [],
   "source": [
    "from sklearn.model_selection import train_test_split\n",
    "x_train,x_test,y_train,y_test = train_test_split(x,y,test_size=0.33,random_state=0)"
   ]
  },
  {
   "cell_type": "code",
   "execution_count": 15,
   "metadata": {},
   "outputs": [],
   "source": [
    "# Deep Learning\n",
    "import tensorflow\n",
    "from tensorflow.keras.models import Sequential\n",
    "from tensorflow.keras.layers import Dense"
   ]
  },
  {
   "cell_type": "code",
   "execution_count": 16,
   "metadata": {},
   "outputs": [],
   "source": [
    "y_train = y_train.reshape(-1,1)"
   ]
  },
  {
   "cell_type": "code",
   "execution_count": 17,
   "metadata": {},
   "outputs": [
    {
     "output_type": "stream",
     "name": "stdout",
     "text": "(6700, 16934)\n(6700, 1)\n"
    }
   ],
   "source": [
    "print(x_train.shape)\n",
    "print(y_train.shape)"
   ]
  },
  {
   "cell_type": "code",
   "execution_count": 18,
   "metadata": {},
   "outputs": [
    {
     "output_type": "stream",
     "name": "stdout",
     "text": "Epoch 1/50\nWARNING:tensorflow:AutoGraph could not transform <function Model.make_train_function.<locals>.train_function at 0x1acca93320> and will run it as-is.\nPlease report this to the TensorFlow team. When filing the bug, set the verbosity to 10 (on Linux, `export AUTOGRAPH_VERBOSITY=10`) and attach the full output.\nCause: Bad argument number for Name: 4, expecting 3\nTo silence this warning, decorate the function with @tf.autograph.experimental.do_not_convert\nWARNING: AutoGraph could not transform <function Model.make_train_function.<locals>.train_function at 0x1acca93320> and will run it as-is.\nPlease report this to the TensorFlow team. When filing the bug, set the verbosity to 10 (on Linux, `export AUTOGRAPH_VERBOSITY=10`) and attach the full output.\nCause: Bad argument number for Name: 4, expecting 3\nTo silence this warning, decorate the function with @tf.autograph.experimental.do_not_convert\n210/210 [==============================] - 0s 2ms/step - loss: 0.5938 - accuracy: 0.7925\nEpoch 2/50\n210/210 [==============================] - 0s 2ms/step - loss: 0.5044 - accuracy: 0.7979\nEpoch 3/50\n210/210 [==============================] - 0s 2ms/step - loss: 0.4521 - accuracy: 0.7979\nEpoch 4/50\n210/210 [==============================] - 0s 2ms/step - loss: 0.4039 - accuracy: 0.7979\nEpoch 5/50\n210/210 [==============================] - 0s 2ms/step - loss: 0.3456 - accuracy: 0.7979\nEpoch 6/50\n210/210 [==============================] - 0s 2ms/step - loss: 0.2898 - accuracy: 0.7979\nEpoch 7/50\n210/210 [==============================] - 0s 2ms/step - loss: 0.2493 - accuracy: 0.7979\nEpoch 8/50\n210/210 [==============================] - 0s 2ms/step - loss: 0.2288 - accuracy: 0.8670\nEpoch 9/50\n210/210 [==============================] - 0s 2ms/step - loss: 0.2185 - accuracy: 0.8825\nEpoch 10/50\n210/210 [==============================] - 0s 2ms/step - loss: 0.2126 - accuracy: 0.8867\nEpoch 11/50\n210/210 [==============================] - 0s 2ms/step - loss: 0.2087 - accuracy: 0.8885\nEpoch 12/50\n210/210 [==============================] - 0s 2ms/step - loss: 0.2069 - accuracy: 0.8887\nEpoch 13/50\n210/210 [==============================] - 0s 2ms/step - loss: 0.2058 - accuracy: 0.8887\nEpoch 14/50\n210/210 [==============================] - 0s 2ms/step - loss: 0.2051 - accuracy: 0.8887\nEpoch 15/50\n210/210 [==============================] - 0s 2ms/step - loss: 0.2047 - accuracy: 0.8887\nEpoch 16/50\n210/210 [==============================] - 0s 2ms/step - loss: 0.2041 - accuracy: 0.8890\nEpoch 17/50\n210/210 [==============================] - 0s 2ms/step - loss: 0.2038 - accuracy: 0.8891\nEpoch 18/50\n210/210 [==============================] - 0s 2ms/step - loss: 0.2033 - accuracy: 0.8894\nEpoch 19/50\n210/210 [==============================] - 0s 2ms/step - loss: 0.2019 - accuracy: 0.8909\nEpoch 20/50\n210/210 [==============================] - 0s 2ms/step - loss: 0.2015 - accuracy: 0.8912\nEpoch 21/50\n210/210 [==============================] - 0s 2ms/step - loss: 0.2013 - accuracy: 0.8913\nEpoch 22/50\n210/210 [==============================] - 0s 2ms/step - loss: 0.2008 - accuracy: 0.8918\nEpoch 23/50\n210/210 [==============================] - 0s 2ms/step - loss: 0.2007 - accuracy: 0.8918\nEpoch 24/50\n210/210 [==============================] - 0s 2ms/step - loss: 0.2007 - accuracy: 0.8918\nEpoch 25/50\n210/210 [==============================] - 0s 2ms/step - loss: 0.2000 - accuracy: 0.8925\nEpoch 26/50\n210/210 [==============================] - 0s 2ms/step - loss: 0.1989 - accuracy: 0.8936\nEpoch 27/50\n210/210 [==============================] - 0s 2ms/step - loss: 0.1983 - accuracy: 0.8940\nEpoch 28/50\n210/210 [==============================] - 0s 2ms/step - loss: 0.1960 - accuracy: 0.8963\nEpoch 29/50\n210/210 [==============================] - 0s 2ms/step - loss: 0.1950 - accuracy: 0.8972\nEpoch 30/50\n210/210 [==============================] - 0s 2ms/step - loss: 0.1945 - accuracy: 0.8976\nEpoch 31/50\n210/210 [==============================] - 0s 2ms/step - loss: 0.1945 - accuracy: 0.8976\nEpoch 32/50\n210/210 [==============================] - 0s 2ms/step - loss: 0.1945 - accuracy: 0.8976\nEpoch 33/50\n210/210 [==============================] - 0s 2ms/step - loss: 0.1945 - accuracy: 0.8976\nEpoch 34/50\n210/210 [==============================] - 0s 2ms/step - loss: 0.1938 - accuracy: 0.8984\nEpoch 35/50\n210/210 [==============================] - 0s 2ms/step - loss: 0.1922 - accuracy: 0.8997\nEpoch 36/50\n210/210 [==============================] - 0s 2ms/step - loss: 0.1935 - accuracy: 0.8988\nEpoch 37/50\n210/210 [==============================] - 1s 3ms/step - loss: 0.1717 - accuracy: 0.9181\nEpoch 38/50\n210/210 [==============================] - 0s 2ms/step - loss: 0.1673 - accuracy: 0.9215\nEpoch 39/50\n210/210 [==============================] - 0s 2ms/step - loss: 0.1667 - accuracy: 0.9216\nEpoch 40/50\n210/210 [==============================] - 0s 2ms/step - loss: 0.1665 - accuracy: 0.9216\nEpoch 41/50\n210/210 [==============================] - 0s 2ms/step - loss: 0.1663 - accuracy: 0.9216\nEpoch 42/50\n210/210 [==============================] - 0s 2ms/step - loss: 0.1663 - accuracy: 0.9216\nEpoch 43/50\n210/210 [==============================] - 0s 2ms/step - loss: 0.1662 - accuracy: 0.9216\nEpoch 44/50\n210/210 [==============================] - 0s 2ms/step - loss: 0.1662 - accuracy: 0.9216\nEpoch 45/50\n210/210 [==============================] - 0s 2ms/step - loss: 0.1662 - accuracy: 0.9216\nEpoch 46/50\n210/210 [==============================] - 0s 2ms/step - loss: 0.1662 - accuracy: 0.9216\nEpoch 47/50\n210/210 [==============================] - 0s 2ms/step - loss: 0.1662 - accuracy: 0.9216\nEpoch 48/50\n210/210 [==============================] - 0s 2ms/step - loss: 0.1662 - accuracy: 0.9216\nEpoch 49/50\n210/210 [==============================] - 0s 2ms/step - loss: 0.1662 - accuracy: 0.9216\nEpoch 50/50\n210/210 [==============================] - 0s 2ms/step - loss: 0.1662 - accuracy: 0.9216\nWARNING:tensorflow:AutoGraph could not transform <function Model.make_predict_function.<locals>.predict_function at 0x1accbd9dd0> and will run it as-is.\nPlease report this to the TensorFlow team. When filing the bug, set the verbosity to 10 (on Linux, `export AUTOGRAPH_VERBOSITY=10`) and attach the full output.\nCause: Bad argument number for Name: 4, expecting 3\nTo silence this warning, decorate the function with @tf.autograph.experimental.do_not_convert\nWARNING: AutoGraph could not transform <function Model.make_predict_function.<locals>.predict_function at 0x1accbd9dd0> and will run it as-is.\nPlease report this to the TensorFlow team. When filing the bug, set the verbosity to 10 (on Linux, `export AUTOGRAPH_VERBOSITY=10`) and attach the full output.\nCause: Bad argument number for Name: 4, expecting 3\nTo silence this warning, decorate the function with @tf.autograph.experimental.do_not_convert\n"
    }
   ],
   "source": [
    "classifier = Sequential()\n",
    "\n",
    "classifier.add(Dense(6, kernel_initializer='uniform' , activation ='relu', input_dim = 16934))\n",
    "classifier.add(Dense(6, kernel_initializer='uniform' , activation ='relu'))\n",
    "classifier.add(Dense(1, kernel_initializer='uniform' , activation ='sigmoid'))\n",
    "classifier.compile(optimizer = 'adam' , loss = 'binary_crossentropy' , metrics =['accuracy'] )\n",
    "classifier.fit(x_train,y_train,epochs=50)\n",
    "prediction = classifier.predict(x_test)\n",
    "prediction = (prediction > 0.5)"
   ]
  },
  {
   "cell_type": "code",
   "execution_count": 19,
   "metadata": {},
   "outputs": [
    {
     "output_type": "execute_result",
     "data": {
      "text/plain": "array([[1893,  724],\n       [ 308,  375]])"
     },
     "metadata": {},
     "execution_count": 19
    }
   ],
   "source": [
    "from sklearn.metrics import confusion_matrix\n",
    "cm = confusion_matrix(y_test,prediction)\n",
    "cm"
   ]
  },
  {
   "cell_type": "code",
   "execution_count": null,
   "metadata": {},
   "outputs": [],
   "source": []
  }
 ],
 "metadata": {
  "language_info": {
   "codemirror_mode": {
    "name": "ipython",
    "version": 3
   },
   "file_extension": ".py",
   "mimetype": "text/x-python",
   "name": "python",
   "nbconvert_exporter": "python",
   "pygments_lexer": "ipython3",
   "version": "3.7.6-final"
  },
  "orig_nbformat": 2,
  "kernelspec": {
   "name": "python37664bitbasecondadaaf1e94dae24b6f8d0e7b42e0b816cc",
   "display_name": "Python 3.7.6 64-bit ('base': conda)"
  }
 },
 "nbformat": 4,
 "nbformat_minor": 2
}