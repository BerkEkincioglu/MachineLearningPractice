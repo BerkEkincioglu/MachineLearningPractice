{
 "nbformat": 4,
 "nbformat_minor": 2,
 "metadata": {
  "language_info": {
   "name": "python",
   "codemirror_mode": {
    "name": "ipython",
    "version": 3
   },
   "version": "3.7.6-final"
  },
  "orig_nbformat": 2,
  "file_extension": ".py",
  "mimetype": "text/x-python",
  "name": "python",
  "npconvert_exporter": "python",
  "pygments_lexer": "ipython3",
  "version": 3,
  "kernelspec": {
   "name": "python3",
   "display_name": "Python 3"
  }
 },
 "cells": [
  {
   "cell_type": "code",
   "execution_count": 1,
   "metadata": {},
   "outputs": [],
   "source": [
    "import pandas as pd \n",
    "import numpy as np \n",
    "import matplotlib.pyplot as plt "
   ]
  },
  {
   "cell_type": "code",
   "execution_count": 2,
   "metadata": {},
   "outputs": [],
   "source": [
    "df = pd.read_excel('iris.xls')"
   ]
  },
  {
   "cell_type": "code",
   "execution_count": 3,
   "metadata": {},
   "outputs": [
    {
     "output_type": "execute_result",
     "data": {
      "text/plain": "   sepal length  sepal width  petal length  petal width         iris\n0           5.1          3.5           1.4          0.2  Iris-setosa\n1           4.9          3.0           1.4          0.2  Iris-setosa\n2           4.7          3.2           1.3          0.2  Iris-setosa\n3           4.6          3.1           1.5          0.2  Iris-setosa\n4           5.0          3.6           1.4          0.2  Iris-setosa",
      "text/html": "<div>\n<style scoped>\n    .dataframe tbody tr th:only-of-type {\n        vertical-align: middle;\n    }\n\n    .dataframe tbody tr th {\n        vertical-align: top;\n    }\n\n    .dataframe thead th {\n        text-align: right;\n    }\n</style>\n<table border=\"1\" class=\"dataframe\">\n  <thead>\n    <tr style=\"text-align: right;\">\n      <th></th>\n      <th>sepal length</th>\n      <th>sepal width</th>\n      <th>petal length</th>\n      <th>petal width</th>\n      <th>iris</th>\n    </tr>\n  </thead>\n  <tbody>\n    <tr>\n      <th>0</th>\n      <td>5.1</td>\n      <td>3.5</td>\n      <td>1.4</td>\n      <td>0.2</td>\n      <td>Iris-setosa</td>\n    </tr>\n    <tr>\n      <th>1</th>\n      <td>4.9</td>\n      <td>3.0</td>\n      <td>1.4</td>\n      <td>0.2</td>\n      <td>Iris-setosa</td>\n    </tr>\n    <tr>\n      <th>2</th>\n      <td>4.7</td>\n      <td>3.2</td>\n      <td>1.3</td>\n      <td>0.2</td>\n      <td>Iris-setosa</td>\n    </tr>\n    <tr>\n      <th>3</th>\n      <td>4.6</td>\n      <td>3.1</td>\n      <td>1.5</td>\n      <td>0.2</td>\n      <td>Iris-setosa</td>\n    </tr>\n    <tr>\n      <th>4</th>\n      <td>5.0</td>\n      <td>3.6</td>\n      <td>1.4</td>\n      <td>0.2</td>\n      <td>Iris-setosa</td>\n    </tr>\n  </tbody>\n</table>\n</div>"
     },
     "metadata": {},
     "execution_count": 3
    }
   ],
   "source": [
    "df.head()"
   ]
  },
  {
   "cell_type": "code",
   "execution_count": 4,
   "metadata": {},
   "outputs": [],
   "source": [
    "x = df.iloc[:,:4].values\n",
    "y = df.iloc[:,-1:].values"
   ]
  },
  {
   "cell_type": "code",
   "execution_count": 5,
   "metadata": {},
   "outputs": [],
   "source": [
    "from sklearn.preprocessing import StandardScaler\n",
    "from sklearn.preprocessing import OneHotEncoder\n",
    "from sklearn.preprocessing import LabelEncoder\n",
    "import statsmodels.api as sm \n",
    "from sklearn.model_selection import train_test_split\n",
    "from sklearn import metrics\n",
    "from sklearn.metrics import confusion_matrix"
   ]
  },
  {
   "cell_type": "code",
   "execution_count": 6,
   "metadata": {},
   "outputs": [],
   "source": [
    "sc = StandardScaler()\n",
    "ohe = OneHotEncoder()\n",
    "le = LabelEncoder()\n",
    "x = sc.fit_transform(x)\n",
    "y = le.fit_transform(y)"
   ]
  },
  {
   "cell_type": "code",
   "execution_count": 7,
   "metadata": {},
   "outputs": [],
   "source": [
    "x_train,x_test,y_train,y_test = train_test_split(x,y,test_size=0.33,random_state=42)\n",
    "\n",
    "# x_test = x_test.reshape(-1,1)\n",
    "# x_train = x_train.reshape(-1,1)\n",
    "# y_train = y_train.reshape(-1,1)\n",
    "# y_test = y_test.reshape(-1,1)"
   ]
  },
  {
   "cell_type": "code",
   "execution_count": 8,
   "metadata": {},
   "outputs": [],
   "source": [
    "from sklearn.linear_model import LogisticRegression\n",
    "from sklearn.neighbors import KNeighborsClassifier\n",
    "from sklearn.svm import SVC\n",
    "from sklearn.naive_bayes import GaussianNB\n",
    "from sklearn.tree import DecisionTreeClassifier\n",
    "from sklearn.ensemble import RandomForestClassifier\n",
    "\n",
    "\n",
    "lr = LogisticRegression()\n",
    "knn = KNeighborsClassifier(n_neighbors=3,metric='minkowski')\n",
    "svc = SVC(kernel='poly')\n",
    "gnb = GaussianNB()\n",
    "dtc = DecisionTreeClassifier(criterion='gini')\n",
    "rfc = RandomForestClassifier(n_estimators=10,criterion='gini')"
   ]
  },
  {
   "cell_type": "code",
   "execution_count": 9,
   "metadata": {},
   "outputs": [],
   "source": [
    "def stats_model(prediction,x_test):\n",
    "    model = sm.OLS(prediction,x_test)\n",
    "    return model.fit().summary()"
   ]
  },
  {
   "cell_type": "code",
   "execution_count": 10,
   "metadata": {},
   "outputs": [
    {
     "output_type": "stream",
     "name": "stdout",
     "text": "OLS Regression Results                                \n=======================================================================================\nDep. Variable:                      y   R-squared (uncentered):                   0.400\nModel:                            OLS   Adj. R-squared (uncentered):              0.348\nMethod:                 Least Squares   F-statistic:                              7.673\nDate:                Mon, 20 Apr 2020   Prob (F-statistic):                    8.00e-05\nTime:                        12:02:14   Log-Likelihood:                         -68.636\nNo. Observations:                  50   AIC:                                      145.3\nDf Residuals:                      46   BIC:                                      152.9\nDf Model:                           4                                                  \nCovariance Type:            nonrobust                                                  \n==============================================================================\n                 coef    std err          t      P>|t|      [0.025      0.975]\n------------------------------------------------------------------------------\nx1             0.3998      0.405      0.987      0.329      -0.415       1.215\nx2             0.0510      0.205      0.248      0.805      -0.362       0.464\nx3            -0.3695      0.775     -0.477      0.636      -1.929       1.190\nx4             0.7734      0.586      1.319      0.194      -0.407       1.954\n==============================================================================\nOmnibus:                        2.577   Durbin-Watson:                   0.221\nProb(Omnibus):                  0.276   Jarque-Bera (JB):                1.876\nSkew:                           0.292   Prob(JB):                        0.391\nKurtosis:                       2.252   Cond. No.                         12.3\n==============================================================================\n\nWarnings:\n[1] Standard Errors assume that the covariance matrix of the errors is correctly specified.\n0.98\n[[19  0  0]\n [ 0 15  0]\n [ 0  1 15]]\n"
    }
   ],
   "source": [
    "def make_prediction(model,x_train,y_train,x_test):\n",
    "    model.fit(x_train,y_train)\n",
    "    prediction = model.predict(x_test)\n",
    "    return prediction\n",
    "\n",
    "prediction_lr = make_prediction(lr,x_train,y_train,x_test)\n",
    "model_lr = stats_model(prediction_lr,x_test)\n",
    "cm_lr = confusion_matrix(y_test,prediction_lr)\n",
    "print(model_lr)\n",
    "print(lr.score(x_test,y_test))\n",
    "print(cm_lr)"
   ]
  },
  {
   "cell_type": "code",
   "execution_count": 11,
   "metadata": {},
   "outputs": [
    {
     "output_type": "stream",
     "name": "stdout",
     "text": "OLS Regression Results                                \n=======================================================================================\nDep. Variable:                      y   R-squared (uncentered):                   0.400\nModel:                            OLS   Adj. R-squared (uncentered):              0.348\nMethod:                 Least Squares   F-statistic:                              7.673\nDate:                Mon, 20 Apr 2020   Prob (F-statistic):                    8.00e-05\nTime:                        12:02:14   Log-Likelihood:                         -68.636\nNo. Observations:                  50   AIC:                                      145.3\nDf Residuals:                      46   BIC:                                      152.9\nDf Model:                           4                                                  \nCovariance Type:            nonrobust                                                  \n==============================================================================\n                 coef    std err          t      P>|t|      [0.025      0.975]\n------------------------------------------------------------------------------\nx1             0.3998      0.405      0.987      0.329      -0.415       1.215\nx2             0.0510      0.205      0.248      0.805      -0.362       0.464\nx3            -0.3695      0.775     -0.477      0.636      -1.929       1.190\nx4             0.7734      0.586      1.319      0.194      -0.407       1.954\n==============================================================================\nOmnibus:                        2.577   Durbin-Watson:                   0.221\nProb(Omnibus):                  0.276   Jarque-Bera (JB):                1.876\nSkew:                           0.292   Prob(JB):                        0.391\nKurtosis:                       2.252   Cond. No.                         12.3\n==============================================================================\n\nWarnings:\n[1] Standard Errors assume that the covariance matrix of the errors is correctly specified.\n0.98\n[[19  0  0]\n [ 0 15  0]\n [ 0  1 15]]\n"
    }
   ],
   "source": [
    "prediction_knn = make_prediction(knn,x_train,y_train,x_test)\n",
    "model_knn = stats_model(prediction_knn,x_test)\n",
    "cm_knn = confusion_matrix(y_test,prediction_knn)\n",
    "print(model_knn)\n",
    "print(knn.score(x_test,y_test))\n",
    "print(cm_knn)"
   ]
  },
  {
   "cell_type": "code",
   "execution_count": 12,
   "metadata": {},
   "outputs": [
    {
     "output_type": "stream",
     "name": "stdout",
     "text": "OLS Regression Results                                \n=======================================================================================\nDep. Variable:                      y   R-squared (uncentered):                   0.408\nModel:                            OLS   Adj. R-squared (uncentered):              0.356\nMethod:                 Least Squares   F-statistic:                              7.918\nDate:                Mon, 20 Apr 2020   Prob (F-statistic):                    6.07e-05\nTime:                        12:02:15   Log-Likelihood:                         -66.263\nNo. Observations:                  50   AIC:                                      140.5\nDf Residuals:                      46   BIC:                                      148.2\nDf Model:                           4                                                  \nCovariance Type:            nonrobust                                                  \n==============================================================================\n                 coef    std err          t      P>|t|      [0.025      0.975]\n------------------------------------------------------------------------------\nx1             0.5130      0.386      1.329      0.190      -0.264       1.290\nx2            -0.0080      0.196     -0.041      0.967      -0.402       0.386\nx3            -0.5710      0.739     -0.773      0.444      -2.058       0.916\nx4             0.8173      0.559      1.462      0.151      -0.308       1.943\n==============================================================================\nOmnibus:                        1.805   Durbin-Watson:                   0.210\nProb(Omnibus):                  0.406   Jarque-Bera (JB):                1.726\nSkew:                           0.371   Prob(JB):                        0.422\nKurtosis:                       2.474   Cond. No.                         12.3\n==============================================================================\n\nWarnings:\n[1] Standard Errors assume that the covariance matrix of the errors is correctly specified.\n0.94\n[[19  0  0]\n [ 0 15  0]\n [ 0  3 13]]\n"
    }
   ],
   "source": [
    "prediction_svc = make_prediction(svc,x_train,y_train,x_test)\n",
    "model_svc = stats_model(prediction_svc,x_test)\n",
    "cm_svc = confusion_matrix(y_test,prediction_svc)\n",
    "print(model_svc)\n",
    "print(svc.score(x_test,y_test))\n",
    "print(cm_svc)"
   ]
  },
  {
   "cell_type": "code",
   "execution_count": 13,
   "metadata": {},
   "outputs": [
    {
     "output_type": "stream",
     "name": "stdout",
     "text": "OLS Regression Results                                \n=======================================================================================\nDep. Variable:                      y   R-squared (uncentered):                   0.397\nModel:                            OLS   Adj. R-squared (uncentered):              0.345\nMethod:                 Least Squares   F-statistic:                              7.572\nDate:                Mon, 20 Apr 2020   Prob (F-statistic):                    8.96e-05\nTime:                        12:02:15   Log-Likelihood:                         -69.735\nNo. Observations:                  50   AIC:                                      147.5\nDf Residuals:                      46   BIC:                                      155.1\nDf Model:                           4                                                  \nCovariance Type:            nonrobust                                                  \n==============================================================================\n                 coef    std err          t      P>|t|      [0.025      0.975]\n------------------------------------------------------------------------------\nx1             0.3710      0.414      0.897      0.375      -0.462       1.204\nx2             0.0822      0.210      0.392      0.697      -0.340       0.505\nx3            -0.2968      0.792     -0.375      0.710      -1.891       1.297\nx4             0.7515      0.599      1.254      0.216      -0.455       1.958\n==============================================================================\nOmnibus:                        2.894   Durbin-Watson:                   0.229\nProb(Omnibus):                  0.235   Jarque-Bera (JB):                1.747\nSkew:                           0.199   Prob(JB):                        0.418\nKurtosis:                       2.175   Cond. No.                         12.3\n==============================================================================\n\nWarnings:\n[1] Standard Errors assume that the covariance matrix of the errors is correctly specified.\n0.96\n[[19  0  0]\n [ 0 14  1]\n [ 0  1 15]]\n"
    }
   ],
   "source": [
    "prediction_gnb = make_prediction(gnb,x_train,y_train,x_test)\n",
    "model_gnb = stats_model(prediction_gnb,x_test)\n",
    "cm_gnb = confusion_matrix(y_test,prediction_gnb)\n",
    "print(model_gnb)\n",
    "print(gnb.score(x_test,y_test))\n",
    "print(cm_gnb)"
   ]
  },
  {
   "cell_type": "code",
   "execution_count": 14,
   "metadata": {},
   "outputs": [
    {
     "output_type": "stream",
     "name": "stdout",
     "text": "OLS Regression Results                                \n=======================================================================================\nDep. Variable:                      y   R-squared (uncentered):                   0.391\nModel:                            OLS   Adj. R-squared (uncentered):              0.338\nMethod:                 Least Squares   F-statistic:                              7.387\nDate:                Mon, 20 Apr 2020   Prob (F-statistic):                    0.000111\nTime:                        12:02:15   Log-Likelihood:                         -69.979\nNo. Observations:                  50   AIC:                                      148.0\nDf Residuals:                      46   BIC:                                      155.6\nDf Model:                           4                                                  \nCovariance Type:            nonrobust                                                  \n==============================================================================\n                 coef    std err          t      P>|t|      [0.025      0.975]\n------------------------------------------------------------------------------\nx1             0.3842      0.416      0.924      0.360      -0.453       1.221\nx2             0.0593      0.211      0.281      0.780      -0.365       0.484\nx3            -0.2227      0.796     -0.280      0.781      -1.825       1.379\nx4             0.6556      0.602      1.089      0.282      -0.557       1.868\n==============================================================================\nOmnibus:                        2.269   Durbin-Watson:                   0.186\nProb(Omnibus):                  0.322   Jarque-Bera (JB):                1.928\nSkew:                           0.353   Prob(JB):                        0.381\nKurtosis:                       2.346   Cond. No.                         12.3\n==============================================================================\n\nWarnings:\n[1] Standard Errors assume that the covariance matrix of the errors is correctly specified.\n1.0\n[[19  0  0]\n [ 0 15  0]\n [ 0  0 16]]\n"
    }
   ],
   "source": [
    "prediction_dtc = make_prediction(dtc,x_train,y_train,x_test)\n",
    "model_dtc = stats_model(prediction_dtc,x_test)\n",
    "cm_dtc = confusion_matrix(y_test,prediction_dtc)\n",
    "print(model_dtc)\n",
    "print(dtc.score(x_test,y_test))\n",
    "print(cm_dtc)"
   ]
  },
  {
   "cell_type": "code",
   "execution_count": 15,
   "metadata": {},
   "outputs": [
    {
     "output_type": "stream",
     "name": "stdout",
     "text": "OLS Regression Results                                \n=======================================================================================\nDep. Variable:                      y   R-squared (uncentered):                   0.400\nModel:                            OLS   Adj. R-squared (uncentered):              0.348\nMethod:                 Least Squares   F-statistic:                              7.673\nDate:                Mon, 20 Apr 2020   Prob (F-statistic):                    8.00e-05\nTime:                        12:02:15   Log-Likelihood:                         -68.636\nNo. Observations:                  50   AIC:                                      145.3\nDf Residuals:                      46   BIC:                                      152.9\nDf Model:                           4                                                  \nCovariance Type:            nonrobust                                                  \n==============================================================================\n                 coef    std err          t      P>|t|      [0.025      0.975]\n------------------------------------------------------------------------------\nx1             0.3998      0.405      0.987      0.329      -0.415       1.215\nx2             0.0510      0.205      0.248      0.805      -0.362       0.464\nx3            -0.3695      0.775     -0.477      0.636      -1.929       1.190\nx4             0.7734      0.586      1.319      0.194      -0.407       1.954\n==============================================================================\nOmnibus:                        2.577   Durbin-Watson:                   0.221\nProb(Omnibus):                  0.276   Jarque-Bera (JB):                1.876\nSkew:                           0.292   Prob(JB):                        0.391\nKurtosis:                       2.252   Cond. No.                         12.3\n==============================================================================\n\nWarnings:\n[1] Standard Errors assume that the covariance matrix of the errors is correctly specified.\n0.98\n[[19  0  0]\n [ 0 15  0]\n [ 0  1 15]]\n"
    }
   ],
   "source": [
    "prediction_rfc = make_prediction(rfc,x_train,y_train,x_test)\n",
    "model_rfc = stats_model(prediction_rfc,x_test)\n",
    "cm_rfc = confusion_matrix(y_test,prediction_rfc)\n",
    "print(model_rfc)\n",
    "print(rfc.score(x_test,y_test))\n",
    "print(cm_rfc)"
   ]
  },
  {
   "cell_type": "code",
   "execution_count": null,
   "metadata": {},
   "outputs": [],
   "source": []
  }
 ]
}