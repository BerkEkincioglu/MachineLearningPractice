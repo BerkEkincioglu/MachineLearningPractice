{
 "nbformat": 4,
 "nbformat_minor": 2,
 "metadata": {
  "language_info": {
   "name": "python",
   "codemirror_mode": {
    "name": "ipython",
    "version": 3
   },
   "version": "3.7.6-final"
  },
  "orig_nbformat": 2,
  "file_extension": ".py",
  "mimetype": "text/x-python",
  "name": "python",
  "npconvert_exporter": "python",
  "pygments_lexer": "ipython3",
  "version": 3,
  "kernelspec": {
   "name": "python3",
   "display_name": "Python 3"
  }
 },
 "cells": [
  {
   "cell_type": "code",
   "execution_count": 1,
   "metadata": {},
   "outputs": [],
   "source": [
    "import numpy as np \n",
    "import pandas as pd \n",
    "import matplotlib.pyplot as plt "
   ]
  },
  {
   "cell_type": "code",
   "execution_count": 2,
   "metadata": {},
   "outputs": [],
   "source": [
    "df = pd.read_csv('veriler.csv')"
   ]
  },
  {
   "cell_type": "code",
   "execution_count": 3,
   "metadata": {},
   "outputs": [
    {
     "output_type": "execute_result",
     "data": {
      "text/plain": "  ulke  boy  kilo  yas cinsiyet\n0   tr  130    30   10        e\n1   tr  125    36   11        e\n2   tr  135    34   10        k\n3   tr  133    30    9        k\n4   tr  129    38   12        e",
      "text/html": "<div>\n<style scoped>\n    .dataframe tbody tr th:only-of-type {\n        vertical-align: middle;\n    }\n\n    .dataframe tbody tr th {\n        vertical-align: top;\n    }\n\n    .dataframe thead th {\n        text-align: right;\n    }\n</style>\n<table border=\"1\" class=\"dataframe\">\n  <thead>\n    <tr style=\"text-align: right;\">\n      <th></th>\n      <th>ulke</th>\n      <th>boy</th>\n      <th>kilo</th>\n      <th>yas</th>\n      <th>cinsiyet</th>\n    </tr>\n  </thead>\n  <tbody>\n    <tr>\n      <th>0</th>\n      <td>tr</td>\n      <td>130</td>\n      <td>30</td>\n      <td>10</td>\n      <td>e</td>\n    </tr>\n    <tr>\n      <th>1</th>\n      <td>tr</td>\n      <td>125</td>\n      <td>36</td>\n      <td>11</td>\n      <td>e</td>\n    </tr>\n    <tr>\n      <th>2</th>\n      <td>tr</td>\n      <td>135</td>\n      <td>34</td>\n      <td>10</td>\n      <td>k</td>\n    </tr>\n    <tr>\n      <th>3</th>\n      <td>tr</td>\n      <td>133</td>\n      <td>30</td>\n      <td>9</td>\n      <td>k</td>\n    </tr>\n    <tr>\n      <th>4</th>\n      <td>tr</td>\n      <td>129</td>\n      <td>38</td>\n      <td>12</td>\n      <td>e</td>\n    </tr>\n  </tbody>\n</table>\n</div>"
     },
     "metadata": {},
     "execution_count": 3
    }
   ],
   "source": [
    "df.head()"
   ]
  },
  {
   "cell_type": "code",
   "execution_count": 4,
   "metadata": {},
   "outputs": [],
   "source": [
    "x = df.iloc[:,1:4].values\n",
    "y = df.iloc[:,4:].values"
   ]
  },
  {
   "cell_type": "code",
   "execution_count": 5,
   "metadata": {},
   "outputs": [
    {
     "output_type": "execute_result",
     "data": {
      "text/plain": "array([[130,  30,  10],\n       [125,  36,  11],\n       [135,  34,  10],\n       [133,  30,   9],\n       [129,  38,  12],\n       [180,  90,  30],\n       [190,  80,  25],\n       [175,  90,  35],\n       [177,  60,  22],\n       [185, 105,  33],\n       [165,  55,  27],\n       [155,  50,  44],\n       [160,  58,  39],\n       [162,  59,  41],\n       [167,  62,  55],\n       [174,  70,  47],\n       [193,  90,  23],\n       [187,  80,  27],\n       [183,  88,  28],\n       [159,  40,  29],\n       [164,  66,  32],\n       [166,  56,  42]])"
     },
     "metadata": {},
     "execution_count": 5
    }
   ],
   "source": [
    "x"
   ]
  },
  {
   "cell_type": "code",
   "execution_count": 6,
   "metadata": {},
   "outputs": [
    {
     "output_type": "stream",
     "name": "stdout",
     "text": "[[-1.62018668 -1.47588873 -1.47217295]\n [-1.86299395 -1.20033383 -1.39337051]\n [-1.37737941 -1.29218547 -1.47217295]\n [-1.47450232 -1.47588873 -1.5509754 ]\n [-1.66874813 -1.1084822  -1.31456806]\n [ 0.807886    1.27966024  0.10387595]\n [ 1.29350054  0.82040208 -0.29013628]\n [ 0.56507873  1.27966024  0.49788818]\n [ 0.66220164 -0.09811424 -0.52654361]\n [ 1.05069327  1.96854749  0.34028329]\n [ 0.0794642  -0.32774333 -0.13253139]\n [-0.40615034 -0.55737241  1.20711018]\n [-0.16334307 -0.18996588  0.81309796]\n [-0.06622016 -0.14404006  0.97070285]\n [ 0.1765871  -0.00626261  2.07393708]\n [ 0.51651728  0.36114392  1.44351752]\n [ 1.4391849   1.27966024 -0.44774117]\n [ 1.14781618  0.82040208 -0.13253139]\n [ 0.95357036  1.18780861 -0.05372894]\n [-0.21190452 -1.01663057  0.02507351]\n [ 0.03090274  0.17744065  0.26148084]\n [ 0.12802565 -0.28181751  1.04950529]]\n"
    },
    {
     "output_type": "execute_result",
     "data": {
      "text/plain": "array([[1., 0.],\n       [1., 0.],\n       [0., 1.],\n       [0., 1.],\n       [1., 0.],\n       [1., 0.],\n       [1., 0.],\n       [1., 0.],\n       [0., 1.],\n       [1., 0.],\n       [0., 1.],\n       [0., 1.],\n       [0., 1.],\n       [0., 1.],\n       [0., 1.],\n       [1., 0.],\n       [1., 0.],\n       [1., 0.],\n       [1., 0.],\n       [0., 1.],\n       [0., 1.],\n       [0., 1.]])"
     },
     "metadata": {},
     "execution_count": 6
    }
   ],
   "source": [
    "from sklearn.preprocessing import StandardScaler\n",
    "sc = StandardScaler()\n",
    "x = sc.fit_transform(x)\n",
    "from sklearn.preprocessing import OneHotEncoder\n",
    "ohe = OneHotEncoder()\n",
    "y = ohe.fit_transform(y).toarray()\n",
    "print(x)\n",
    "y"
   ]
  },
  {
   "cell_type": "code",
   "execution_count": 7,
   "metadata": {},
   "outputs": [],
   "source": [
    "from sklearn.model_selection import train_test_split\n",
    "x_train,x_test,y_train,y_test = train_test_split(x,y,test_size=0.33,random_state=1)"
   ]
  },
  {
   "cell_type": "code",
   "execution_count": 8,
   "metadata": {},
   "outputs": [
    {
     "output_type": "stream",
     "name": "stdout",
     "text": "accuracy score ---->  0.75\n"
    }
   ],
   "source": [
    "from sklearn.ensemble import RandomForestClassifier\n",
    "rfc = RandomForestClassifier(n_estimators=10,criterion='entropy')\n",
    "rfc.fit(x_train,y_train)\n",
    "y_pred = rfc.predict(x_test)\n",
    "print('accuracy score ----> ', rfc.score(x_test,y_test))"
   ]
  },
  {
   "cell_type": "code",
   "execution_count": 9,
   "metadata": {},
   "outputs": [
    {
     "output_type": "stream",
     "name": "stdout",
     "text": "accuracy score ---->  0.875\n"
    }
   ],
   "source": [
    "rfc1 = RandomForestClassifier(n_estimators=100,criterion='entropy')\n",
    "rfc1.fit(x_train,y_train)\n",
    "y_pred1 = rfc1.predict(x_test)\n",
    "print('accuracy score ----> ', rfc1.score(x_test,y_test))"
   ]
  },
  {
   "cell_type": "code",
   "execution_count": 10,
   "metadata": {},
   "outputs": [
    {
     "output_type": "stream",
     "name": "stdout",
     "text": "accuracy score ---->  0.75\n"
    }
   ],
   "source": [
    "rfc2 = RandomForestClassifier(n_estimators=10,criterion='gini')\n",
    "rfc2.fit(x_train,y_train)\n",
    "y_pred2 = rfc2.predict(x_test)\n",
    "print('accuracy score ----> ', rfc2.score(x_test,y_test))"
   ]
  },
  {
   "cell_type": "code",
   "execution_count": 11,
   "metadata": {},
   "outputs": [
    {
     "output_type": "stream",
     "name": "stdout",
     "text": "accuracy score ---->  0.875\n"
    }
   ],
   "source": [
    "rfc3 = RandomForestClassifier(n_estimators=100,criterion='gini')\n",
    "rfc3.fit(x_train,y_train)\n",
    "y_pred3 = rfc3.predict(x_test)\n",
    "print('accuracy score ----> ', rfc3.score(x_test,y_test))"
   ]
  },
  {
   "cell_type": "code",
   "execution_count": null,
   "metadata": {},
   "outputs": [],
   "source": []
  }
 ]
}