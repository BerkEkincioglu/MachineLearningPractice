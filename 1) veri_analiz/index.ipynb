{
 "nbformat": 4,
 "nbformat_minor": 2,
 "metadata": {
  "language_info": {
   "name": "python",
   "codemirror_mode": {
    "name": "ipython",
    "version": 2
   },
   "version": "3.7.4-final"
  },
  "orig_nbformat": 2,
  "file_extension": ".py",
  "mimetype": "text/x-python",
  "name": "python",
  "npconvert_exporter": "python",
  "pygments_lexer": "ipython2",
  "version": 2,
  "kernelspec": {
   "name": "python37464bitbasecondac7afde9d02bf4d7f80abeb9413297394",
   "display_name": "Python 3.7.4 64-bit ('base': conda)"
  }
 },
 "cells": [
  {
   "cell_type": "code",
   "execution_count": 1,
   "metadata": {},
   "outputs": [],
   "source": [
    "import pandas as pd \n",
    "import numpy as np\n",
    "import matplotlib.pyplot as plt"
   ]
  },
  {
   "cell_type": "code",
   "execution_count": 2,
   "metadata": {},
   "outputs": [],
   "source": [
    "df = pd.read_csv(\"veriler.csv\")"
   ]
  },
  {
   "cell_type": "code",
   "execution_count": 3,
   "metadata": {},
   "outputs": [
    {
     "data": {
      "text/html": "<div>\n<style scoped>\n    .dataframe tbody tr th:only-of-type {\n        vertical-align: middle;\n    }\n\n    .dataframe tbody tr th {\n        vertical-align: top;\n    }\n\n    .dataframe thead th {\n        text-align: right;\n    }\n</style>\n<table border=\"1\" class=\"dataframe\">\n  <thead>\n    <tr style=\"text-align: right;\">\n      <th></th>\n      <th>ulke</th>\n      <th>boy</th>\n      <th>kilo</th>\n      <th>yas</th>\n      <th>cinsiyet</th>\n    </tr>\n  </thead>\n  <tbody>\n    <tr>\n      <td>0</td>\n      <td>tr</td>\n      <td>130</td>\n      <td>30</td>\n      <td>10</td>\n      <td>e</td>\n    </tr>\n    <tr>\n      <td>1</td>\n      <td>tr</td>\n      <td>125</td>\n      <td>36</td>\n      <td>11</td>\n      <td>e</td>\n    </tr>\n    <tr>\n      <td>2</td>\n      <td>tr</td>\n      <td>135</td>\n      <td>34</td>\n      <td>10</td>\n      <td>k</td>\n    </tr>\n    <tr>\n      <td>3</td>\n      <td>tr</td>\n      <td>133</td>\n      <td>30</td>\n      <td>9</td>\n      <td>k</td>\n    </tr>\n    <tr>\n      <td>4</td>\n      <td>tr</td>\n      <td>129</td>\n      <td>38</td>\n      <td>12</td>\n      <td>e</td>\n    </tr>\n  </tbody>\n</table>\n</div>",
      "text/plain": "  ulke  boy  kilo  yas cinsiyet\n0   tr  130    30   10        e\n1   tr  125    36   11        e\n2   tr  135    34   10        k\n3   tr  133    30    9        k\n4   tr  129    38   12        e"
     },
     "execution_count": 3,
     "metadata": {},
     "output_type": "execute_result"
    }
   ],
   "source": [
    "df.head()"
   ]
  },
  {
   "cell_type": "code",
   "execution_count": null,
   "metadata": {},
   "outputs": [],
   "source": []
  }
 ]
}