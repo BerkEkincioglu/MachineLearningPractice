{
 "nbformat": 4,
 "nbformat_minor": 2,
 "metadata": {
  "language_info": {
   "name": "python",
   "codemirror_mode": {
    "name": "ipython",
    "version": 2
   },
   "version": "3.7.6-final"
  },
  "orig_nbformat": 2,
  "file_extension": ".py",
  "mimetype": "text/x-python",
  "name": "python",
  "npconvert_exporter": "python",
  "pygments_lexer": "ipython2",
  "version": 2,
  "kernelspec": {
   "name": "python3",
   "display_name": "Python 3"
  }
 },
 "cells": [
  {
   "cell_type": "code",
   "execution_count": 2,
   "metadata": {},
   "outputs": [],
   "source": [
    "import pandas as pd\n",
    "import numpy as np\n",
    "import matplotlib.pyplot as plt\n",
    "import sys"
   ]
  },
  {
   "cell_type": "code",
   "execution_count": 3,
   "metadata": {},
   "outputs": [],
   "source": [
    "df = pd.read_csv('odev_tenis.csv')"
   ]
  },
  {
   "cell_type": "code",
   "execution_count": 4,
   "metadata": {},
   "outputs": [
    {
     "output_type": "execute_result",
     "data": {
      "text/plain": "    outlook  temperature  humidity  windy play\n0     sunny           85        85  False   no\n1     sunny           80        90   True   no\n2  overcast           83        86  False  yes\n3     rainy           70        96  False  yes\n4     rainy           68        80  False  yes",
      "text/html": "<div>\n<style scoped>\n    .dataframe tbody tr th:only-of-type {\n        vertical-align: middle;\n    }\n\n    .dataframe tbody tr th {\n        vertical-align: top;\n    }\n\n    .dataframe thead th {\n        text-align: right;\n    }\n</style>\n<table border=\"1\" class=\"dataframe\">\n  <thead>\n    <tr style=\"text-align: right;\">\n      <th></th>\n      <th>outlook</th>\n      <th>temperature</th>\n      <th>humidity</th>\n      <th>windy</th>\n      <th>play</th>\n    </tr>\n  </thead>\n  <tbody>\n    <tr>\n      <th>0</th>\n      <td>sunny</td>\n      <td>85</td>\n      <td>85</td>\n      <td>False</td>\n      <td>no</td>\n    </tr>\n    <tr>\n      <th>1</th>\n      <td>sunny</td>\n      <td>80</td>\n      <td>90</td>\n      <td>True</td>\n      <td>no</td>\n    </tr>\n    <tr>\n      <th>2</th>\n      <td>overcast</td>\n      <td>83</td>\n      <td>86</td>\n      <td>False</td>\n      <td>yes</td>\n    </tr>\n    <tr>\n      <th>3</th>\n      <td>rainy</td>\n      <td>70</td>\n      <td>96</td>\n      <td>False</td>\n      <td>yes</td>\n    </tr>\n    <tr>\n      <th>4</th>\n      <td>rainy</td>\n      <td>68</td>\n      <td>80</td>\n      <td>False</td>\n      <td>yes</td>\n    </tr>\n  </tbody>\n</table>\n</div>"
     },
     "metadata": {},
     "execution_count": 4
    }
   ],
   "source": [
    "df.head()"
   ]
  },
  {
   "cell_type": "code",
   "execution_count": 5,
   "metadata": {},
   "outputs": [],
   "source": [
    "#Encoding\n",
    "from sklearn.preprocessing import LabelEncoder\n",
    "#play = df.iloc[:,-1:].values\n",
    "#windy = df.iloc[:,-2:-1].values\n",
    "le = LabelEncoder()\n",
    "#play[:,0] = le.fit_transform(play[:,0])\n",
    "#windy = le.fit_transform(windy[:,0])\n",
    "from sklearn.preprocessing import OneHotEncoder\n",
    "ohe = OneHotEncoder(categories='auto', sparse=True)"
   ]
  },
  {
   "cell_type": "code",
   "execution_count": 6,
   "metadata": {},
   "outputs": [
    {
     "output_type": "execute_result",
     "data": {
      "text/plain": "      o    r    s  temperature  humidity  windy  play\n0   0.0  0.0  1.0           85        85      0     0\n1   0.0  0.0  1.0           80        90      1     0\n2   1.0  0.0  0.0           83        86      0     1\n3   0.0  1.0  0.0           70        96      0     1\n4   0.0  1.0  0.0           68        80      0     1\n5   0.0  1.0  0.0           65        70      1     0\n6   1.0  0.0  0.0           64        65      1     1\n7   0.0  0.0  1.0           72        95      0     0\n8   0.0  0.0  1.0           69        70      0     1\n9   0.0  1.0  0.0           75        80      0     1\n10  0.0  0.0  1.0           75        70      1     1\n11  1.0  0.0  0.0           72        90      1     1\n12  1.0  0.0  0.0           81        75      0     1\n13  0.0  1.0  0.0           71        91      1     0",
      "text/html": "<div>\n<style scoped>\n    .dataframe tbody tr th:only-of-type {\n        vertical-align: middle;\n    }\n\n    .dataframe tbody tr th {\n        vertical-align: top;\n    }\n\n    .dataframe thead th {\n        text-align: right;\n    }\n</style>\n<table border=\"1\" class=\"dataframe\">\n  <thead>\n    <tr style=\"text-align: right;\">\n      <th></th>\n      <th>o</th>\n      <th>r</th>\n      <th>s</th>\n      <th>temperature</th>\n      <th>humidity</th>\n      <th>windy</th>\n      <th>play</th>\n    </tr>\n  </thead>\n  <tbody>\n    <tr>\n      <th>0</th>\n      <td>0.0</td>\n      <td>0.0</td>\n      <td>1.0</td>\n      <td>85</td>\n      <td>85</td>\n      <td>0</td>\n      <td>0</td>\n    </tr>\n    <tr>\n      <th>1</th>\n      <td>0.0</td>\n      <td>0.0</td>\n      <td>1.0</td>\n      <td>80</td>\n      <td>90</td>\n      <td>1</td>\n      <td>0</td>\n    </tr>\n    <tr>\n      <th>2</th>\n      <td>1.0</td>\n      <td>0.0</td>\n      <td>0.0</td>\n      <td>83</td>\n      <td>86</td>\n      <td>0</td>\n      <td>1</td>\n    </tr>\n    <tr>\n      <th>3</th>\n      <td>0.0</td>\n      <td>1.0</td>\n      <td>0.0</td>\n      <td>70</td>\n      <td>96</td>\n      <td>0</td>\n      <td>1</td>\n    </tr>\n    <tr>\n      <th>4</th>\n      <td>0.0</td>\n      <td>1.0</td>\n      <td>0.0</td>\n      <td>68</td>\n      <td>80</td>\n      <td>0</td>\n      <td>1</td>\n    </tr>\n    <tr>\n      <th>5</th>\n      <td>0.0</td>\n      <td>1.0</td>\n      <td>0.0</td>\n      <td>65</td>\n      <td>70</td>\n      <td>1</td>\n      <td>0</td>\n    </tr>\n    <tr>\n      <th>6</th>\n      <td>1.0</td>\n      <td>0.0</td>\n      <td>0.0</td>\n      <td>64</td>\n      <td>65</td>\n      <td>1</td>\n      <td>1</td>\n    </tr>\n    <tr>\n      <th>7</th>\n      <td>0.0</td>\n      <td>0.0</td>\n      <td>1.0</td>\n      <td>72</td>\n      <td>95</td>\n      <td>0</td>\n      <td>0</td>\n    </tr>\n    <tr>\n      <th>8</th>\n      <td>0.0</td>\n      <td>0.0</td>\n      <td>1.0</td>\n      <td>69</td>\n      <td>70</td>\n      <td>0</td>\n      <td>1</td>\n    </tr>\n    <tr>\n      <th>9</th>\n      <td>0.0</td>\n      <td>1.0</td>\n      <td>0.0</td>\n      <td>75</td>\n      <td>80</td>\n      <td>0</td>\n      <td>1</td>\n    </tr>\n    <tr>\n      <th>10</th>\n      <td>0.0</td>\n      <td>0.0</td>\n      <td>1.0</td>\n      <td>75</td>\n      <td>70</td>\n      <td>1</td>\n      <td>1</td>\n    </tr>\n    <tr>\n      <th>11</th>\n      <td>1.0</td>\n      <td>0.0</td>\n      <td>0.0</td>\n      <td>72</td>\n      <td>90</td>\n      <td>1</td>\n      <td>1</td>\n    </tr>\n    <tr>\n      <th>12</th>\n      <td>1.0</td>\n      <td>0.0</td>\n      <td>0.0</td>\n      <td>81</td>\n      <td>75</td>\n      <td>0</td>\n      <td>1</td>\n    </tr>\n    <tr>\n      <th>13</th>\n      <td>0.0</td>\n      <td>1.0</td>\n      <td>0.0</td>\n      <td>71</td>\n      <td>91</td>\n      <td>1</td>\n      <td>0</td>\n    </tr>\n  </tbody>\n</table>\n</div>"
     },
     "metadata": {},
     "execution_count": 6
    }
   ],
   "source": [
    "df2 = df.apply(LabelEncoder().fit_transform)\n",
    "\n",
    "outlook = df.iloc[:,0:1]\n",
    "outlook = ohe.fit_transform(outlook).toarray()\n",
    "outlook_df = pd.DataFrame(data= outlook, index = range(14),columns=['o','r','s'])\n",
    "final_data = pd.concat([outlook_df,df.iloc[:,1:3]],axis=1)\n",
    "final_data = pd.concat([final_data,df2.iloc[:,-2:]],axis=1)\n",
    "final_data"
   ]
  },
  {
   "cell_type": "code",
   "execution_count": 7,
   "metadata": {},
   "outputs": [
    {
     "output_type": "execute_result",
     "data": {
      "text/plain": "    outlook  temperature  humidity  windy  play\n0         2           11         4      0     0\n1         2            8         6      1     0\n2         0           10         5      0     1\n3         1            4         9      0     1\n4         1            2         3      0     1\n5         1            1         1      1     0\n6         0            0         0      1     1\n7         2            6         8      0     0\n8         2            3         1      0     1\n9         1            7         3      0     1\n10        2            7         1      1     1\n11        0            6         6      1     1\n12        0            9         2      0     1\n13        1            5         7      1     0",
      "text/html": "<div>\n<style scoped>\n    .dataframe tbody tr th:only-of-type {\n        vertical-align: middle;\n    }\n\n    .dataframe tbody tr th {\n        vertical-align: top;\n    }\n\n    .dataframe thead th {\n        text-align: right;\n    }\n</style>\n<table border=\"1\" class=\"dataframe\">\n  <thead>\n    <tr style=\"text-align: right;\">\n      <th></th>\n      <th>outlook</th>\n      <th>temperature</th>\n      <th>humidity</th>\n      <th>windy</th>\n      <th>play</th>\n    </tr>\n  </thead>\n  <tbody>\n    <tr>\n      <th>0</th>\n      <td>2</td>\n      <td>11</td>\n      <td>4</td>\n      <td>0</td>\n      <td>0</td>\n    </tr>\n    <tr>\n      <th>1</th>\n      <td>2</td>\n      <td>8</td>\n      <td>6</td>\n      <td>1</td>\n      <td>0</td>\n    </tr>\n    <tr>\n      <th>2</th>\n      <td>0</td>\n      <td>10</td>\n      <td>5</td>\n      <td>0</td>\n      <td>1</td>\n    </tr>\n    <tr>\n      <th>3</th>\n      <td>1</td>\n      <td>4</td>\n      <td>9</td>\n      <td>0</td>\n      <td>1</td>\n    </tr>\n    <tr>\n      <th>4</th>\n      <td>1</td>\n      <td>2</td>\n      <td>3</td>\n      <td>0</td>\n      <td>1</td>\n    </tr>\n    <tr>\n      <th>5</th>\n      <td>1</td>\n      <td>1</td>\n      <td>1</td>\n      <td>1</td>\n      <td>0</td>\n    </tr>\n    <tr>\n      <th>6</th>\n      <td>0</td>\n      <td>0</td>\n      <td>0</td>\n      <td>1</td>\n      <td>1</td>\n    </tr>\n    <tr>\n      <th>7</th>\n      <td>2</td>\n      <td>6</td>\n      <td>8</td>\n      <td>0</td>\n      <td>0</td>\n    </tr>\n    <tr>\n      <th>8</th>\n      <td>2</td>\n      <td>3</td>\n      <td>1</td>\n      <td>0</td>\n      <td>1</td>\n    </tr>\n    <tr>\n      <th>9</th>\n      <td>1</td>\n      <td>7</td>\n      <td>3</td>\n      <td>0</td>\n      <td>1</td>\n    </tr>\n    <tr>\n      <th>10</th>\n      <td>2</td>\n      <td>7</td>\n      <td>1</td>\n      <td>1</td>\n      <td>1</td>\n    </tr>\n    <tr>\n      <th>11</th>\n      <td>0</td>\n      <td>6</td>\n      <td>6</td>\n      <td>1</td>\n      <td>1</td>\n    </tr>\n    <tr>\n      <th>12</th>\n      <td>0</td>\n      <td>9</td>\n      <td>2</td>\n      <td>0</td>\n      <td>1</td>\n    </tr>\n    <tr>\n      <th>13</th>\n      <td>1</td>\n      <td>5</td>\n      <td>7</td>\n      <td>1</td>\n      <td>0</td>\n    </tr>\n  </tbody>\n</table>\n</div>"
     },
     "metadata": {},
     "execution_count": 7
    }
   ],
   "source": [
    "df2"
   ]
  },
  {
   "cell_type": "code",
   "execution_count": 8,
   "metadata": {},
   "outputs": [],
   "source": [
    "from sklearn.model_selection import train_test_split\n",
    "x_train,x_test,y_train,y_test = train_test_split(final_data.iloc[:,:-1],final_data.iloc[:,-1:],test_size=0.33,random_state=0)"
   ]
  },
  {
   "cell_type": "code",
   "execution_count": 16,
   "metadata": {},
   "outputs": [
    {
     "output_type": "execute_result",
     "data": {
      "text/plain": "      o    r    s  temperature  humidity  windy\n0   0.0  0.0  1.0           85        85      0\n1   0.0  0.0  1.0           80        90      1\n2   1.0  0.0  0.0           83        86      0\n3   0.0  1.0  0.0           70        96      0\n4   0.0  1.0  0.0           68        80      0\n5   0.0  1.0  0.0           65        70      1\n6   1.0  0.0  0.0           64        65      1\n7   0.0  0.0  1.0           72        95      0\n8   0.0  0.0  1.0           69        70      0\n9   0.0  1.0  0.0           75        80      0\n10  0.0  0.0  1.0           75        70      1\n11  1.0  0.0  0.0           72        90      1\n12  1.0  0.0  0.0           81        75      0\n13  0.0  1.0  0.0           71        91      1",
      "text/html": "<div>\n<style scoped>\n    .dataframe tbody tr th:only-of-type {\n        vertical-align: middle;\n    }\n\n    .dataframe tbody tr th {\n        vertical-align: top;\n    }\n\n    .dataframe thead th {\n        text-align: right;\n    }\n</style>\n<table border=\"1\" class=\"dataframe\">\n  <thead>\n    <tr style=\"text-align: right;\">\n      <th></th>\n      <th>o</th>\n      <th>r</th>\n      <th>s</th>\n      <th>temperature</th>\n      <th>humidity</th>\n      <th>windy</th>\n    </tr>\n  </thead>\n  <tbody>\n    <tr>\n      <th>0</th>\n      <td>0.0</td>\n      <td>0.0</td>\n      <td>1.0</td>\n      <td>85</td>\n      <td>85</td>\n      <td>0</td>\n    </tr>\n    <tr>\n      <th>1</th>\n      <td>0.0</td>\n      <td>0.0</td>\n      <td>1.0</td>\n      <td>80</td>\n      <td>90</td>\n      <td>1</td>\n    </tr>\n    <tr>\n      <th>2</th>\n      <td>1.0</td>\n      <td>0.0</td>\n      <td>0.0</td>\n      <td>83</td>\n      <td>86</td>\n      <td>0</td>\n    </tr>\n    <tr>\n      <th>3</th>\n      <td>0.0</td>\n      <td>1.0</td>\n      <td>0.0</td>\n      <td>70</td>\n      <td>96</td>\n      <td>0</td>\n    </tr>\n    <tr>\n      <th>4</th>\n      <td>0.0</td>\n      <td>1.0</td>\n      <td>0.0</td>\n      <td>68</td>\n      <td>80</td>\n      <td>0</td>\n    </tr>\n    <tr>\n      <th>5</th>\n      <td>0.0</td>\n      <td>1.0</td>\n      <td>0.0</td>\n      <td>65</td>\n      <td>70</td>\n      <td>1</td>\n    </tr>\n    <tr>\n      <th>6</th>\n      <td>1.0</td>\n      <td>0.0</td>\n      <td>0.0</td>\n      <td>64</td>\n      <td>65</td>\n      <td>1</td>\n    </tr>\n    <tr>\n      <th>7</th>\n      <td>0.0</td>\n      <td>0.0</td>\n      <td>1.0</td>\n      <td>72</td>\n      <td>95</td>\n      <td>0</td>\n    </tr>\n    <tr>\n      <th>8</th>\n      <td>0.0</td>\n      <td>0.0</td>\n      <td>1.0</td>\n      <td>69</td>\n      <td>70</td>\n      <td>0</td>\n    </tr>\n    <tr>\n      <th>9</th>\n      <td>0.0</td>\n      <td>1.0</td>\n      <td>0.0</td>\n      <td>75</td>\n      <td>80</td>\n      <td>0</td>\n    </tr>\n    <tr>\n      <th>10</th>\n      <td>0.0</td>\n      <td>0.0</td>\n      <td>1.0</td>\n      <td>75</td>\n      <td>70</td>\n      <td>1</td>\n    </tr>\n    <tr>\n      <th>11</th>\n      <td>1.0</td>\n      <td>0.0</td>\n      <td>0.0</td>\n      <td>72</td>\n      <td>90</td>\n      <td>1</td>\n    </tr>\n    <tr>\n      <th>12</th>\n      <td>1.0</td>\n      <td>0.0</td>\n      <td>0.0</td>\n      <td>81</td>\n      <td>75</td>\n      <td>0</td>\n    </tr>\n    <tr>\n      <th>13</th>\n      <td>0.0</td>\n      <td>1.0</td>\n      <td>0.0</td>\n      <td>71</td>\n      <td>91</td>\n      <td>1</td>\n    </tr>\n  </tbody>\n</table>\n</div>"
     },
     "metadata": {},
     "execution_count": 16
    }
   ],
   "source": [
    "df_backward"
   ]
  },
  {
   "cell_type": "code",
   "execution_count": 17,
   "metadata": {},
   "outputs": [
    {
     "output_type": "execute_result",
     "data": {
      "text/plain": "<class 'statsmodels.iolib.summary.Summary'>\n\"\"\"\n                            OLS Regression Results                            \n==============================================================================\nDep. Variable:                  windy   R-squared:                       1.000\nModel:                            OLS   Adj. R-squared:                  1.000\nMethod:                 Least Squares   F-statistic:                 8.055e+27\nDate:                Sat, 04 Apr 2020   Prob (F-statistic):          1.41e-110\nTime:                        18:36:03   Log-Likelihood:                 436.49\nNo. Observations:                  14   AIC:                            -861.0\nDf Residuals:                       8   BIC:                            -857.1\nDf Model:                           5                                         \nCovariance Type:            nonrobust                                         \n==============================================================================\n                 coef    std err          t      P>|t|      [0.025      0.975]\n------------------------------------------------------------------------------\nx1          1.332e-15   3.76e-14      0.035      0.973   -8.55e-14    8.81e-14\nx2          1.332e-15   3.55e-14      0.038      0.971   -8.06e-14    8.32e-14\nx3          1.554e-15    3.8e-14      0.041      0.968   -8.61e-14    8.92e-14\nx4         -1.214e-16    5.1e-16     -0.238      0.818    -1.3e-15    1.05e-15\nx5          6.072e-18   2.78e-16      0.022      0.983   -6.35e-16    6.47e-16\nx6             1.0000   5.42e-15   1.84e+14      0.000       1.000       1.000\n==============================================================================\nOmnibus:                        1.135   Durbin-Watson:                   0.015\nProb(Omnibus):                  0.567   Jarque-Bera (JB):                0.942\nSkew:                           0.443   Prob(JB):                        0.624\nKurtosis:                       2.089   Cond. No.                     2.86e+03\n==============================================================================\n\nWarnings:\n[1] Standard Errors assume that the covariance matrix of the errors is correctly specified.\n[2] The condition number is large, 2.86e+03. This might indicate that there are\nstrong multicollinearity or other numerical problems.\n\"\"\"",
      "text/html": "<table class=\"simpletable\">\n<caption>OLS Regression Results</caption>\n<tr>\n  <th>Dep. Variable:</th>          <td>windy</td>      <th>  R-squared:         </th> <td>   1.000</td> \n</tr>\n<tr>\n  <th>Model:</th>                   <td>OLS</td>       <th>  Adj. R-squared:    </th> <td>   1.000</td> \n</tr>\n<tr>\n  <th>Method:</th>             <td>Least Squares</td>  <th>  F-statistic:       </th> <td>8.055e+27</td>\n</tr>\n<tr>\n  <th>Date:</th>             <td>Sat, 04 Apr 2020</td> <th>  Prob (F-statistic):</th> <td>1.41e-110</td>\n</tr>\n<tr>\n  <th>Time:</th>                 <td>18:36:03</td>     <th>  Log-Likelihood:    </th> <td>  436.49</td> \n</tr>\n<tr>\n  <th>No. Observations:</th>      <td>    14</td>      <th>  AIC:               </th> <td>  -861.0</td> \n</tr>\n<tr>\n  <th>Df Residuals:</th>          <td>     8</td>      <th>  BIC:               </th> <td>  -857.1</td> \n</tr>\n<tr>\n  <th>Df Model:</th>              <td>     5</td>      <th>                     </th>     <td> </td>    \n</tr>\n<tr>\n  <th>Covariance Type:</th>      <td>nonrobust</td>    <th>                     </th>     <td> </td>    \n</tr>\n</table>\n<table class=\"simpletable\">\n<tr>\n   <td></td>     <th>coef</th>     <th>std err</th>      <th>t</th>      <th>P>|t|</th>  <th>[0.025</th>    <th>0.975]</th>  \n</tr>\n<tr>\n  <th>x1</th> <td> 1.332e-15</td> <td> 3.76e-14</td> <td>    0.035</td> <td> 0.973</td> <td>-8.55e-14</td> <td> 8.81e-14</td>\n</tr>\n<tr>\n  <th>x2</th> <td> 1.332e-15</td> <td> 3.55e-14</td> <td>    0.038</td> <td> 0.971</td> <td>-8.06e-14</td> <td> 8.32e-14</td>\n</tr>\n<tr>\n  <th>x3</th> <td> 1.554e-15</td> <td>  3.8e-14</td> <td>    0.041</td> <td> 0.968</td> <td>-8.61e-14</td> <td> 8.92e-14</td>\n</tr>\n<tr>\n  <th>x4</th> <td>-1.214e-16</td> <td>  5.1e-16</td> <td>   -0.238</td> <td> 0.818</td> <td> -1.3e-15</td> <td> 1.05e-15</td>\n</tr>\n<tr>\n  <th>x5</th> <td> 6.072e-18</td> <td> 2.78e-16</td> <td>    0.022</td> <td> 0.983</td> <td>-6.35e-16</td> <td> 6.47e-16</td>\n</tr>\n<tr>\n  <th>x6</th> <td>    1.0000</td> <td> 5.42e-15</td> <td> 1.84e+14</td> <td> 0.000</td> <td>    1.000</td> <td>    1.000</td>\n</tr>\n</table>\n<table class=\"simpletable\">\n<tr>\n  <th>Omnibus:</th>       <td> 1.135</td> <th>  Durbin-Watson:     </th> <td>   0.015</td>\n</tr>\n<tr>\n  <th>Prob(Omnibus):</th> <td> 0.567</td> <th>  Jarque-Bera (JB):  </th> <td>   0.942</td>\n</tr>\n<tr>\n  <th>Skew:</th>          <td> 0.443</td> <th>  Prob(JB):          </th> <td>   0.624</td>\n</tr>\n<tr>\n  <th>Kurtosis:</th>      <td> 2.089</td> <th>  Cond. No.          </th> <td>2.86e+03</td>\n</tr>\n</table><br/><br/>Warnings:<br/>[1] Standard Errors assume that the covariance matrix of the errors is correctly specified.<br/>[2] The condition number is large, 2.86e+03. This might indicate that there are<br/>strong multicollinearity or other numerical problems."
     },
     "metadata": {},
     "execution_count": 17
    }
   ],
   "source": [
    "#backward elemination\n",
    "import statsmodels.api as sm\n",
    "df_backward = final_data.iloc[:,:-1]\n",
    "X= np.append(arr = np.ones((14,1)).astype(int),values=df_backward,axis=1)\n",
    "X_l = df_backward.iloc[:,[0,1,2,3,4,5]].values\n",
    "r_ols = sm.OLS(endog = df_backward.iloc[:,-1:] ,exog = X_l) \n",
    "r = r_ols.fit()\n",
    "r.summary()"
   ]
  },
  {
   "cell_type": "code",
   "execution_count": 10,
   "metadata": {},
   "outputs": [],
   "source": [
    "from sklearn.linear_model import LinearRegression\n",
    "lr = LinearRegression()\n",
    "lr.fit(x_train,y_train)\n",
    "prediction_play = lr.predict(x_test)"
   ]
  },
  {
   "cell_type": "code",
   "execution_count": 11,
   "metadata": {},
   "outputs": [
    {
     "output_type": "execute_result",
     "data": {
      "text/plain": "      o    r    s  temperature  humidity  windy\n0   0.0  0.0  1.0           85        85      0\n1   0.0  0.0  1.0           80        90      1\n2   1.0  0.0  0.0           83        86      0\n3   0.0  1.0  0.0           70        96      0\n4   0.0  1.0  0.0           68        80      0\n5   0.0  1.0  0.0           65        70      1\n6   1.0  0.0  0.0           64        65      1\n7   0.0  0.0  1.0           72        95      0\n8   0.0  0.0  1.0           69        70      0\n9   0.0  1.0  0.0           75        80      0\n10  0.0  0.0  1.0           75        70      1\n11  1.0  0.0  0.0           72        90      1\n12  1.0  0.0  0.0           81        75      0\n13  0.0  1.0  0.0           71        91      1",
      "text/html": "<div>\n<style scoped>\n    .dataframe tbody tr th:only-of-type {\n        vertical-align: middle;\n    }\n\n    .dataframe tbody tr th {\n        vertical-align: top;\n    }\n\n    .dataframe thead th {\n        text-align: right;\n    }\n</style>\n<table border=\"1\" class=\"dataframe\">\n  <thead>\n    <tr style=\"text-align: right;\">\n      <th></th>\n      <th>o</th>\n      <th>r</th>\n      <th>s</th>\n      <th>temperature</th>\n      <th>humidity</th>\n      <th>windy</th>\n    </tr>\n  </thead>\n  <tbody>\n    <tr>\n      <th>0</th>\n      <td>0.0</td>\n      <td>0.0</td>\n      <td>1.0</td>\n      <td>85</td>\n      <td>85</td>\n      <td>0</td>\n    </tr>\n    <tr>\n      <th>1</th>\n      <td>0.0</td>\n      <td>0.0</td>\n      <td>1.0</td>\n      <td>80</td>\n      <td>90</td>\n      <td>1</td>\n    </tr>\n    <tr>\n      <th>2</th>\n      <td>1.0</td>\n      <td>0.0</td>\n      <td>0.0</td>\n      <td>83</td>\n      <td>86</td>\n      <td>0</td>\n    </tr>\n    <tr>\n      <th>3</th>\n      <td>0.0</td>\n      <td>1.0</td>\n      <td>0.0</td>\n      <td>70</td>\n      <td>96</td>\n      <td>0</td>\n    </tr>\n    <tr>\n      <th>4</th>\n      <td>0.0</td>\n      <td>1.0</td>\n      <td>0.0</td>\n      <td>68</td>\n      <td>80</td>\n      <td>0</td>\n    </tr>\n    <tr>\n      <th>5</th>\n      <td>0.0</td>\n      <td>1.0</td>\n      <td>0.0</td>\n      <td>65</td>\n      <td>70</td>\n      <td>1</td>\n    </tr>\n    <tr>\n      <th>6</th>\n      <td>1.0</td>\n      <td>0.0</td>\n      <td>0.0</td>\n      <td>64</td>\n      <td>65</td>\n      <td>1</td>\n    </tr>\n    <tr>\n      <th>7</th>\n      <td>0.0</td>\n      <td>0.0</td>\n      <td>1.0</td>\n      <td>72</td>\n      <td>95</td>\n      <td>0</td>\n    </tr>\n    <tr>\n      <th>8</th>\n      <td>0.0</td>\n      <td>0.0</td>\n      <td>1.0</td>\n      <td>69</td>\n      <td>70</td>\n      <td>0</td>\n    </tr>\n    <tr>\n      <th>9</th>\n      <td>0.0</td>\n      <td>1.0</td>\n      <td>0.0</td>\n      <td>75</td>\n      <td>80</td>\n      <td>0</td>\n    </tr>\n    <tr>\n      <th>10</th>\n      <td>0.0</td>\n      <td>0.0</td>\n      <td>1.0</td>\n      <td>75</td>\n      <td>70</td>\n      <td>1</td>\n    </tr>\n    <tr>\n      <th>11</th>\n      <td>1.0</td>\n      <td>0.0</td>\n      <td>0.0</td>\n      <td>72</td>\n      <td>90</td>\n      <td>1</td>\n    </tr>\n    <tr>\n      <th>12</th>\n      <td>1.0</td>\n      <td>0.0</td>\n      <td>0.0</td>\n      <td>81</td>\n      <td>75</td>\n      <td>0</td>\n    </tr>\n    <tr>\n      <th>13</th>\n      <td>0.0</td>\n      <td>1.0</td>\n      <td>0.0</td>\n      <td>71</td>\n      <td>91</td>\n      <td>1</td>\n    </tr>\n  </tbody>\n</table>\n</div>"
     },
     "metadata": {},
     "execution_count": 11
    }
   ],
   "source": [
    "final_data.iloc[:,:-1]"
   ]
  },
  {
   "cell_type": "code",
   "execution_count": null,
   "metadata": {},
   "outputs": [],
   "source": []
  }
 ]
}